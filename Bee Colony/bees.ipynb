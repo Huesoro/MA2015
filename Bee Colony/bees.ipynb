{
 "cells": [
  {
   "cell_type": "code",
   "execution_count": 5,
   "metadata": {},
   "outputs": [],
   "source": [
    "import pandas as pd\n",
    "import numpy as np\n",
    "import random"
   ]
  },
  {
   "cell_type": "code",
   "execution_count": 34,
   "metadata": {},
   "outputs": [
    {
     "name": "stdout",
     "output_type": "stream",
     "text": [
      "El valor de x es: 4.428697503405399  Que genera un maximo en: 1.1022145362239124\n"
     ]
    }
   ],
   "source": [
    "#f1 |xsin(x)/(2x-5)| where 0<=x<=14\n",
    "#f2 e^(x^3-x) where -1<=x<=0\n",
    "#f3 -(3*y)/(x^2+y^2+1) where -5<=x<=5 and -5<=y<=5\n",
    "#f4 3(1-x)^2e^-x^2-(y+1)^2-10e^(-x^2-y^2)(-x^3+x/5-y^5)-1/3e^-(x+1)^2-y^2 where -3<=x<=3 and -3<=y<=3\n",
    "\n",
    "\n",
    "\n",
    "#Create a bee colony algorithm to find the maximum of the functions\n",
    "\n",
    "from matplotlib.pylab import rand\n",
    "\n",
    "\n",
    "def f1(x):\n",
    "    if abs(2*x-5) < 2:\n",
    "        return -np.inf\n",
    "    return np.absolute(x*np.sin(x)/(2*x-5))\n",
    "def f2(x):\n",
    "    return np.exp(x**3-x)\n",
    "def f3(x,y):\n",
    "    return -(3*y)/(x**2+y**2+1)\n",
    "def f4(x,y):\n",
    "    if 3*(1-x)**2*np.exp(-x**2)-(y+1)**2-10*np.exp(-x**2-y**2)*(-x**3+x/5-y**5)-1/3*np.exp(-(x+1)**2-y**2) > 5:\n",
    "        return -np.inf\n",
    "    return 3*(1-x)**2*np.exp(-x**2)-(y+1)**2-10*np.exp(-x**2-y**2)*(-x**3+x/5-y**5)-1/3*np.exp(-(x+1)**2-y**2)\n",
    "def fitness(x):\n",
    "    return f1(x)\n",
    "def fitness2(x):\n",
    "    return f2(x)\n",
    "def fitness3(x,y):\n",
    "    return f3(x,y)\n",
    "def fitness4(x,y):\n",
    "    return f4(x,y)\n",
    "\n",
    "def create_bee():\n",
    "    x = random.uniform(0,14)\n",
    "    return x\n",
    "\n",
    "def create_bee2():\n",
    "    x = random.uniform(-1,0)\n",
    "    return x\n",
    "def create_bee3():\n",
    "    x = random.uniform(-5,5)\n",
    "    y = random.uniform(-5,5)\n",
    "    return x,y\n",
    "def create_bee4():\n",
    "    x = random.uniform(-3,3)\n",
    "    y = random.uniform(-3,3)\n",
    "    return x,y\n",
    "def create_population(n):\n",
    "    population = []\n",
    "    for i in range(n):\n",
    "        population.append(create_bee())\n",
    "    return population\n",
    "\n",
    "def create_population2(n):\n",
    "    population = []\n",
    "    for i in range(n):\n",
    "        population.append(create_bee2())\n",
    "    return population\n",
    "\n",
    "def create_population3(n):\n",
    "    population = []\n",
    "    for i in range(n):\n",
    "        population.append(create_bee3())\n",
    "    return population\n",
    "\n",
    "def create_population4(n):\n",
    "    population = []\n",
    "    for i in range(n):\n",
    "        population.append(create_bee4())\n",
    "    return population\n",
    "\n",
    "def select_best(population):\n",
    "    best = population[0]\n",
    "    for i in range(len(population)):\n",
    "        if fitness(population[i]) > fitness(best):\n",
    "            best = population[i]\n",
    "    return best\n",
    "\n",
    "def select_best2(population):\n",
    "    best = population[0]\n",
    "    for i in range(len(population)):\n",
    "        if fitness2(population[i]) > fitness2(best):\n",
    "            best = population[i]\n",
    "    return best\n",
    "\n",
    "def select_best3(population):\n",
    "    best = population[0]\n",
    "    for i in range(len(population)):\n",
    "        if fitness3(population[i][0],population[i][1]) > fitness3(best[0],best[1]):\n",
    "            best = population[i]\n",
    "    return best\n",
    "\n",
    "def select_best4(population):\n",
    "    best = population[0]\n",
    "    for i in range(len(population)):\n",
    "        if fitness4(population[i][0],population[i][1]) > fitness4(best[0],best[1]):\n",
    "            best = population[i]\n",
    "    return best\n",
    "\n",
    "# To have a better search you must use the solution of the current bee and the solution of a random bee\n",
    "def search_neighboor(x, population):\n",
    "    x = random.choice(population)* random.uniform(-1,1) + x\n",
    "    return x\n",
    "\n",
    "def search_neighboor2(x, population):\n",
    "    x = random.choice(population)* random.uniform(-1,1) + x\n",
    "    return x\n",
    "def search_neighboor3(x,y, population):\n",
    "    x = random.choice(population)[0]* random.uniform(-1,1) + x\n",
    "    y = random.choice(population)[1]* random.uniform(-1,1) + y\n",
    "    return x,y\n",
    "def search_neighboor4(x,y, population):\n",
    "    x = random.choice(population)[0]* random.uniform(-1,1) + x\n",
    "    y = random.choice(population)[1]* random.uniform(-1,1) + y\n",
    "    return x,y\n",
    "\n",
    "\n",
    "\n",
    "def bee_colony_algorithm(n):\n",
    "    population = create_population(n)\n",
    "    best = select_best(population)\n",
    "    for i in range(100):\n",
    "        for j in range(len(population)):\n",
    "            new_bee = search_neighboor(population[j],population)\n",
    "            if fitness(new_bee) > fitness(population[j]):\n",
    "                population[j] = new_bee\n",
    "        best = select_best(population)\n",
    "    return best\n",
    "\n",
    "def bee_colony_algorithm2(n):\n",
    "    population = create_population2(n)\n",
    "    best = select_best2(population)\n",
    "    for i in range(100):\n",
    "        for j in range(len(population)):\n",
    "            new_bee = search_neighboor2(population[j],population)\n",
    "            if fitness2(new_bee) > fitness2(population[j]):\n",
    "                population[j] = new_bee\n",
    "        best = select_best2(population)\n",
    "    return best\n",
    "\n",
    "def bee_colony_algorithm3(n):\n",
    "    population = create_population3(n)\n",
    "    best = select_best3(population)\n",
    "    for i in range(100):\n",
    "        for j in range(len(population)):\n",
    "            new_bee = search_neighboor3(population[j][0],population[j][1],population)\n",
    "            if fitness3(new_bee[0],new_bee[1]) > fitness3(population[j][0],population[j][1]):\n",
    "                population[j] = new_bee\n",
    "        best = select_best3(population)\n",
    "    return best\n",
    "\n",
    "def bee_colony_algorithm4(n):\n",
    "    population = create_population4(n)\n",
    "    best = select_best4(population)\n",
    "    for i in range(100):\n",
    "        for j in range(len(population)):\n",
    "            new_bee = search_neighboor4(population[j][0],population[j][1],population)\n",
    "            if fitness4(new_bee[0],new_bee[1]) > fitness4(population[j][0],population[j][1]):\n",
    "                population[j] = new_bee\n",
    "        best = select_best4(population)\n",
    "    return best\n",
    "\n",
    "#Bee colony get the x, y value and the fitness value\n",
    "x = bee_colony_algorithm(100)\n",
    "print(\"El valor de x es:\",x,\" Que genera un maximo en:\", fitness(x))\n",
    "\n"
   ]
  },
  {
   "cell_type": "code",
   "execution_count": 7,
   "metadata": {},
   "outputs": [
    {
     "name": "stdout",
     "output_type": "stream",
     "text": [
      "El valor de x es: -0.5775342417115459  Que genera un maximo en: 1.4694675449136445\n"
     ]
    }
   ],
   "source": [
    "x = bee_colony_algorithm2(100)\n",
    "print(\"El valor de x es:\",x,\" Que genera un maximo en:\", fitness2(x))\n"
   ]
  },
  {
   "cell_type": "code",
   "execution_count": 26,
   "metadata": {},
   "outputs": [
    {
     "name": "stdout",
     "output_type": "stream",
     "text": [
      "El valor de x es: (0.0031279862356285437, -0.9976756439964614)  Que genera un maximo en: 1.4999885833538005\n"
     ]
    }
   ],
   "source": [
    "x = bee_colony_algorithm3(100)\n",
    "print(\"El valor de x es:\",x,\" Que genera un maximo en:\", fitness3(x[0],x[1]))\n"
   ]
  },
  {
   "cell_type": "code",
   "execution_count": 40,
   "metadata": {},
   "outputs": [
    {
     "name": "stdout",
     "output_type": "stream",
     "text": [
      "El valor de x es: (-0.55473711259495, 1.4505851526423796)  Que genera un maximo en: 4.99589288385969\n"
     ]
    }
   ],
   "source": [
    "x = bee_colony_algorithm4(100)\n",
    "print(\"El valor de x es:\",x,\" Que genera un maximo en:\", fitness4(x[0],x[1]))\n"
   ]
  }
 ],
 "metadata": {
  "kernelspec": {
   "display_name": "personal",
   "language": "python",
   "name": "python3"
  },
  "language_info": {
   "codemirror_mode": {
    "name": "ipython",
    "version": 3
   },
   "file_extension": ".py",
   "mimetype": "text/x-python",
   "name": "python",
   "nbconvert_exporter": "python",
   "pygments_lexer": "ipython3",
   "version": "3.11.9"
  }
 },
 "nbformat": 4,
 "nbformat_minor": 2
}
