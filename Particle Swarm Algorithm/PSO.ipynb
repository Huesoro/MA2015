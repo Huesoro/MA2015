{
 "cells": [
  {
   "cell_type": "code",
   "execution_count": 2,
   "metadata": {},
   "outputs": [],
   "source": [
    "import pandas as pd\n",
    "import numpy as np\n",
    "import random"
   ]
  },
  {
   "cell_type": "code",
   "execution_count": 266,
   "metadata": {},
   "outputs": [
    {
     "name": "stdout",
     "output_type": "stream",
     "text": [
      "El valor de x es:  4.4273323957206125\n",
      "El valor de f(x) es:  1.1022153446536842\n"
     ]
    }
   ],
   "source": [
    "#f1 |xsin(x)/(2x-5)| where 0<=x<=14\n",
    "#f2 e^(x^3-x) where -1<=x<=0\n",
    "\n",
    "#Create a PSO algorithm to find the maximum of the functions\n",
    "\n",
    "from tkinter import Y\n",
    "\n",
    "\n",
    "def f1(x):\n",
    "    if abs(2*x-5) < 2:\n",
    "        return -np.inf\n",
    "    return abs(x*np.sin(x)/(2*x-5))\n",
    "def f2(x):\n",
    "    return np.exp(x**3-x)\n",
    "\n",
    "#Create a pso for 1 variable\n",
    "\n",
    "def pso1(f, n_particles, n_iterations, x_min, x_max):\n",
    "    #initialize the particles\n",
    "    particles = np.random.uniform(x_min, x_max, n_particles)\n",
    "    pbest = particles.copy()\n",
    "    pbest_score = np.array([f(x) for x in particles])\n",
    "    gbest = particles[np.argmax(pbest_score)]\n",
    "    gbest_score = f(gbest)\n",
    "    v = np.zeros(n_particles)\n",
    "    c1 = 1.5\n",
    "    c2 = 2\n",
    "    w = 1.4\n",
    "    v_max = 0.1*(x_max-x_min)\n",
    "    for i in range(n_iterations):\n",
    "        for j in range(n_particles):\n",
    "            r1 = random.random()\n",
    "            r2 = random.random()\n",
    "            v[j] = w*v[j] + c1*r1*(pbest[j]-particles[j]) + c2*r2*(gbest-particles[j])\n",
    "            particles[j] = particles[j] + v[j]\n",
    "            if particles[j] < x_min:\n",
    "                particles[j] = x_min\n",
    "            if particles[j] > x_max:\n",
    "                particles[j] = x_max\n",
    "            score = f(particles[j])\n",
    "            if score > pbest_score[j]:\n",
    "                pbest_score[j] = score\n",
    "                pbest[j] = particles[j]\n",
    "                if score > gbest_score:\n",
    "                    gbest_score = score\n",
    "                    gbest = particles[j]\n",
    "            if v[j] > v_max:\n",
    "                v[j] = 0\n",
    "            #If a particle goes out of bounds, bring it back and randomize its velocity\n",
    "            if particles[j] < x_min or particles[j] > x_max:\n",
    "                particles[j] = np.random.uniform(x_min, x_max)\n",
    "                v[j] = 0\n",
    "            #When fitness = -inf, the particle is out of bounds, reset position, velocity and fitness\n",
    "            if f(particles[j]) == -np.inf:\n",
    "                particles[j] = np.random.uniform(x_min, x_max)\n",
    "                v[j] = 0\n",
    "                pbest_score[j] = f(particles[j])\n",
    "    return gbest, gbest_score\n",
    "\n",
    "#Print the results, value of x and value of f(x)\n",
    "x, score = pso1(f1, 100, 100, 0, 14)\n",
    "print(\"El valor de x es: \", x)\n",
    "print(\"El valor de f(x) es: \", score)\n"
   ]
  },
  {
   "cell_type": "code",
   "execution_count": 283,
   "metadata": {},
   "outputs": [
    {
     "name": "stdout",
     "output_type": "stream",
     "text": [
      "El valor de x es:  -0.5773674296591379\n",
      "El valor de f(x) es:  1.4694676303175775\n"
     ]
    }
   ],
   "source": [
    "x, score = pso1(f2, 100, 100, -1, 0)\n",
    "print(\"El valor de x es: \", x)\n",
    "print(\"El valor de f(x) es: \", score)\n"
   ]
  }
 ],
 "metadata": {
  "kernelspec": {
   "display_name": "personal",
   "language": "python",
   "name": "python3"
  },
  "language_info": {
   "codemirror_mode": {
    "name": "ipython",
    "version": 3
   },
   "file_extension": ".py",
   "mimetype": "text/x-python",
   "name": "python",
   "nbconvert_exporter": "python",
   "pygments_lexer": "ipython3",
   "version": "3.11.9"
  }
 },
 "nbformat": 4,
 "nbformat_minor": 2
}
