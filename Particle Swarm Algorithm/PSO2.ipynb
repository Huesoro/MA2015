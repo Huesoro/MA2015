{
 "cells": [
  {
   "cell_type": "code",
   "execution_count": 335,
   "metadata": {},
   "outputs": [],
   "source": [
    "import pandas as pd\n",
    "import numpy as np\n",
    "import random"
   ]
  },
  {
   "cell_type": "code",
   "execution_count": 411,
   "metadata": {},
   "outputs": [
    {
     "name": "stdout",
     "output_type": "stream",
     "text": [
      "Best position for f3: [ 6.90543834e-05 -1.00011795e+00]\n",
      "Best value for f3: 1.4999999994873738\n"
     ]
    }
   ],
   "source": [
    "import numpy as np\n",
    "import random\n",
    "\n",
    "def f3(x, y):\n",
    "    if x**2 + y**2 + 1 < 1.5:\n",
    "        return -1000  # Apply a large penalty instead of -inf\n",
    "    return -(3 * y) / (x**2 + y**2 + 1)\n",
    "\n",
    "def f4(x,y):\n",
    "    return 3*(1-x)**2*np.exp(-x**2)-(y+1)**2-10*np.exp(-x**2-y**2)*(-x**3+x/5-y**5)-1/3*np.exp(-(x+1)**2-y**2)\n",
    "\n",
    "def PSO(f, n_particles, n_iterations, x_min, x_max, y_min, y_max):\n",
    "    # Initialize particles and velocities\n",
    "    particles = np.random.uniform(low=[x_min, y_min], high=[x_max, y_max], size=(n_particles, 2))\n",
    "    pbest = particles.copy()\n",
    "    pbest_values = np.array([f(x, y) for x, y in particles])\n",
    "    gbest = particles[np.argmax(pbest_values)]\n",
    "    gbest_value = np.max(pbest_values)\n",
    "    velocities = np.random.uniform(low=-0.1, high=0.1, size=(n_particles, 2))  # Small initial velocities\n",
    "\n",
    "    c1 = 1.5\n",
    "    c2 = 2\n",
    "    w_max = 1.4\n",
    "    w_min = 0.4\n",
    "    v_max = 0.05 * (x_max - x_min) / 2\n",
    "    \n",
    "    for i in range(n_iterations):\n",
    "        # Update inertia weight dynamically\n",
    "        w = w_max - (w_max - w_min) * i / n_iterations\n",
    "\n",
    "        for j in range(n_particles):\n",
    "            r1 = random.random()\n",
    "            r2 = random.random()\n",
    "\n",
    "            # Update velocity\n",
    "            velocities[j] = (\n",
    "                w * velocities[j]\n",
    "                + c1 * r1 * (pbest[j] - particles[j])\n",
    "                + c2 * r2 * (gbest - particles[j])\n",
    "            )\n",
    "\n",
    "            # Apply velocity limits\n",
    "            velocities[j] = np.clip(velocities[j], -v_max, v_max)\n",
    "\n",
    "            # Update particle position\n",
    "            particles[j] = particles[j] + velocities[j]\n",
    "\n",
    "            # Handle boundary conditions by reflecting particles back into the region\n",
    "            for dim in range(2):\n",
    "                if particles[j][dim] < [x_min, y_min][dim]:\n",
    "                    particles[j][dim] = [x_min, y_min][dim]\n",
    "                    velocities[j][dim] *= -1  # Reflect velocity\n",
    "\n",
    "                if particles[j][dim] > [x_max, y_max][dim]:\n",
    "                    particles[j][dim] = [x_max, y_max][dim]\n",
    "                    velocities[j][dim] *= -1  # Reflect velocity\n",
    "\n",
    "            # Evaluate fitness\n",
    "            current_value = f(particles[j][0], particles[j][1])\n",
    "\n",
    "            # Update personal best\n",
    "            if current_value > pbest_values[j]:\n",
    "                pbest[j] = particles[j]\n",
    "                pbest_values[j] = current_value\n",
    "\n",
    "            # Update global best\n",
    "            if current_value > gbest_value:\n",
    "                gbest = particles[j]\n",
    "                gbest_value = current_value\n",
    "\n",
    "    return gbest, gbest_value\n",
    "\n",
    "# Test the PSO algorithm on f3\n",
    "best_position, best_value = PSO(f3, 100, 100, -5, 5, -5, 5)\n",
    "print(\"Best position for f3:\", best_position)\n",
    "print(\"Best value for f3:\", best_value)\n"
   ]
  },
  {
   "cell_type": "code",
   "execution_count": 412,
   "metadata": {},
   "outputs": [
    {
     "name": "stdout",
     "output_type": "stream",
     "text": [
      "Best position for f4: [-0.29949386  1.41713777]\n",
      "Best value for f4: 5.815297556331814\n"
     ]
    }
   ],
   "source": [
    "best_position, best_value = PSO(f4, 100, 100, -3, 3, -3, 3)\n",
    "print(\"Best position for f4:\", best_position) \n",
    "print(\"Best value for f4:\", best_value)"
   ]
  }
 ],
 "metadata": {
  "kernelspec": {
   "display_name": "personal",
   "language": "python",
   "name": "python3"
  },
  "language_info": {
   "codemirror_mode": {
    "name": "ipython",
    "version": 3
   },
   "file_extension": ".py",
   "mimetype": "text/x-python",
   "name": "python",
   "nbconvert_exporter": "python",
   "pygments_lexer": "ipython3",
   "version": "3.11.9"
  }
 },
 "nbformat": 4,
 "nbformat_minor": 2
}
