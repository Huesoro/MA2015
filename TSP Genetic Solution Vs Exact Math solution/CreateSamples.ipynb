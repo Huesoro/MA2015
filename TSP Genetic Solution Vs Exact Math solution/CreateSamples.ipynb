{
 "cells": [
  {
   "cell_type": "code",
   "execution_count": 2,
   "metadata": {},
   "outputs": [],
   "source": [
    "import pandas as pd\n",
    "import numpy as np\n"
   ]
  },
  {
   "cell_type": "markdown",
   "metadata": {},
   "source": [
    "QUITAR EL # si no e tiene openpyxl"
   ]
  },
  {
   "cell_type": "code",
   "execution_count": 3,
   "metadata": {},
   "outputs": [],
   "source": [
    "\n",
    "#!pip install openpyxl"
   ]
  },
  {
   "cell_type": "code",
   "execution_count": 4,
   "metadata": {},
   "outputs": [],
   "source": [
    "df = pd.read_excel(\"TSP LatitudYLongitud.xlsx\")"
   ]
  },
  {
   "cell_type": "markdown",
   "metadata": {},
   "source": [
    "PON EL NÚMERO DE NODOS QUE NECESITES"
   ]
  },
  {
   "cell_type": "code",
   "execution_count": 5,
   "metadata": {},
   "outputs": [],
   "source": [
    "no_nodes = 40"
   ]
  },
  {
   "cell_type": "code",
   "execution_count": 6,
   "metadata": {},
   "outputs": [],
   "source": [
    "import math\n",
    "\n",
    "def measure(lat1, lon1, lat2, lon2):\n",
    "    # Radius of Earth in kilometers\n",
    "    R = 6378.137\n",
    "\n",
    "    dLat = math.radians(lat2 - lat1)\n",
    "    dLon = math.radians(lon2 - lon1)\n",
    "\n",
    "    a = math.sin(dLat / 2) * math.sin(dLat / 2) + math.cos(math.radians(lat1)) * math.cos(math.radians(lat2)) * math.sin(dLon / 2) * math.sin(dLon / 2)\n",
    "    c = 2 * math.atan2(math.sqrt(a), math.sqrt(1 - a))\n",
    "\n",
    "    d = R * c\n",
    "    return d #kilometers\n"
   ]
  },
  {
   "cell_type": "code",
   "execution_count": 7,
   "metadata": {},
   "outputs": [],
   "source": [
    "range_depot = list(range(1, no_nodes + 1))"
   ]
  },
  {
   "cell_type": "code",
   "execution_count": 8,
   "metadata": {},
   "outputs": [
    {
     "name": "stdout",
     "output_type": "stream",
     "text": [
      "Sample 0 created\n",
      "Sample 1 created\n",
      "Sample 2 created\n",
      "Sample 3 created\n",
      "Sample 4 created\n",
      "Sample 5 created\n",
      "Sample 6 created\n",
      "Sample 7 created\n",
      "Sample 8 created\n",
      "Sample 9 created\n"
     ]
    }
   ],
   "source": [
    "#Create 10 samples of 40 nodes and the distance matrix\n",
    "for i in range(10):\n",
    "    sample = df.sample(no_nodes)\n",
    "    sample = sample.reset_index(drop=True)\n",
    "    sample.to_csv(\"sample\" + str(i) + \".csv\", index=False)\n",
    "    \n",
    "    # Create the dist matrix in a dataframe\n",
    "    \n",
    "    \n",
    "    dist_matrix = np.zeros((no_nodes, no_nodes))\n",
    "    for w in range(no_nodes):\n",
    "        for j in range(no_nodes):            \n",
    "            dist_matrix[w][j] = round(measure(sample.iloc[w][\"Latitude\"], sample.iloc[w][\"Longitude\"], sample.iloc[j][\"Latitude\"], sample.iloc[j][\"Longitude\"]), 2)\n",
    "    # Change the diagonal to 999\n",
    "    np.fill_diagonal(dist_matrix, 999)\n",
    "    pd_dist_matrix = pd.DataFrame(dist_matrix, columns=range_depot, index=range_depot)\n",
    "    \n",
    "    pd_dist_matrix.to_csv(\"dist_matrix\" + str(i) + \".csv\", index=True, header=True)\n",
    "    \n",
    "    print(\"Sample \" + str(i) + \" created\")"
   ]
  }
 ],
 "metadata": {
  "kernelspec": {
   "display_name": "personal",
   "language": "python",
   "name": "python3"
  },
  "language_info": {
   "codemirror_mode": {
    "name": "ipython",
    "version": 3
   },
   "file_extension": ".py",
   "mimetype": "text/x-python",
   "name": "python",
   "nbconvert_exporter": "python",
   "pygments_lexer": "ipython3",
   "version": "3.11.9"
  }
 },
 "nbformat": 4,
 "nbformat_minor": 2
}
